{
 "cells": [
  {
   "cell_type": "code",
   "execution_count": 1,
   "metadata": {},
   "outputs": [],
   "source": [
    "%load_ext autoreload\n",
    "%autoreload 2"
   ]
  },
  {
   "cell_type": "code",
   "execution_count": 1,
   "metadata": {},
   "outputs": [],
   "source": [
    "import os\n",
    "import ee\n",
    "import xee\n",
    "import geemap\n",
    "import geopandas as gpd\n",
    "import numpy as np\n",
    "import pandas as pd\n",
    "import xarray\n",
    "import matplotlib.pyplot as plt\n",
    "from shapely.geometry import box\n",
    "from scipy.signal import savgol_filter\n",
    "import rasterio\n",
    "from rasterio.features import rasterize\n",
    "from osgeo import gdal\n",
    "import rioxarray\n",
    "\n",
    "from func_mask import get_s2, add_cld_shdw_mask, apply_mask, addNDVI\n",
    "from func_processing import time_series\n"
   ]
  },
  {
   "cell_type": "code",
   "execution_count": 2,
   "metadata": {},
   "outputs": [
    {
     "data": {
      "text/html": [
       "\n",
       "            <style>\n",
       "                .geemap-dark {\n",
       "                    --jp-widgets-color: white;\n",
       "                    --jp-widgets-label-color: white;\n",
       "                    --jp-ui-font-color1: white;\n",
       "                    --jp-layout-color2: #454545;\n",
       "                    background-color: #383838;\n",
       "                }\n",
       "                    \n",
       "                .geemap-dark .jupyter-button {\n",
       "                    --jp-layout-color3: #383838;\n",
       "                }\n",
       "                \n",
       "                .geemap-colab {\n",
       "                    background-color: var(--colab-primary-surface-color, white);\n",
       "                }\n",
       "                    \n",
       "                .geemap-colab .jupyter-button {\n",
       "                    --jp-layout-color3: var(--colab-primary-surface-color, white);\n",
       "                }\n",
       "            </style>\n",
       "            "
      ],
      "text/plain": [
       "<IPython.core.display.HTML object>"
      ]
     },
     "metadata": {},
     "output_type": "display_data"
    }
   ],
   "source": [
    "try:\n",
    "    #ee.Initialize()\n",
    "    ee.Initialize(opt_url='https://earthengine-highvolume.googleapis.com')\n",
    "except:\n",
    "    ee.Authenticate()"
   ]
  },
  {
   "cell_type": "markdown",
   "metadata": {},
   "source": [
    "# Downloading time series\n",
    "In this Jupyter notebook, raster time series are downloaded with the Xarray Earth Engine (XEE) package."
   ]
  },
  {
   "cell_type": "markdown",
   "metadata": {},
   "source": [
    "## Settings"
   ]
  },
  {
   "cell_type": "code",
   "execution_count": null,
   "metadata": {},
   "outputs": [
    {
     "data": {
      "text/html": [
       "\n",
       "            <style>\n",
       "                .geemap-dark {\n",
       "                    --jp-widgets-color: white;\n",
       "                    --jp-widgets-label-color: white;\n",
       "                    --jp-ui-font-color1: white;\n",
       "                    --jp-layout-color2: #454545;\n",
       "                    background-color: #383838;\n",
       "                }\n",
       "                    \n",
       "                .geemap-dark .jupyter-button {\n",
       "                    --jp-layout-color3: #383838;\n",
       "                }\n",
       "                \n",
       "                .geemap-colab {\n",
       "                    background-color: var(--colab-primary-surface-color, white);\n",
       "                }\n",
       "                    \n",
       "                .geemap-colab .jupyter-button {\n",
       "                    --jp-layout-color3: var(--colab-primary-surface-color, white);\n",
       "                }\n",
       "            </style>\n",
       "            "
      ],
      "text/plain": [
       "<IPython.core.display.HTML object>"
      ]
     },
     "metadata": {},
     "output_type": "display_data"
    }
   ],
   "source": [
    "# Voor twee jaar\n",
    "start = '2021-11-01' # iets langer dan period of interest zodat we kunnen interpoleren\n",
    "end = '2025-01-15'\n",
    "\n",
    "start_wdw = '2022-02-01' # de echte period of interest\n",
    "end_wdw = '2024-09-01'\n",
    "\n",
    "vi_str = 'bsi' # welke vegetatie-index\n",
    "sg_filter = True # gebruik van een Savitzky-Golay filter \n",
    "\n",
    "output_folder = 'Q:/Projects/PRJ_MBAG/4d_bwk/project-telcirkels/rasters-telcirkels-mas'\n",
    "export = True"
   ]
  },
  {
   "cell_type": "markdown",
   "metadata": {},
   "source": [
    "## Reading geometries (telcirkels)\n",
    "Processing of the geometries was done in R script 01-process-geometries.R. Outputs were written to shared Q-drive. These processed geometries are now loaded here, so that they can be used in xarray earth engine. The counting points stay the same over the years, this means that we will download the required imagery for all years we want (e.g. 2022 and 2023) at the same time."
   ]
  },
  {
   "cell_type": "code",
   "execution_count": 7,
   "metadata": {},
   "outputs": [
    {
     "data": {
      "text/html": [
       "\n",
       "            <style>\n",
       "                .geemap-dark {\n",
       "                    --jp-widgets-color: white;\n",
       "                    --jp-widgets-label-color: white;\n",
       "                    --jp-ui-font-color1: white;\n",
       "                    --jp-layout-color2: #454545;\n",
       "                    background-color: #383838;\n",
       "                }\n",
       "                    \n",
       "                .geemap-dark .jupyter-button {\n",
       "                    --jp-layout-color3: #383838;\n",
       "                }\n",
       "                \n",
       "                .geemap-colab {\n",
       "                    background-color: var(--colab-primary-surface-color, white);\n",
       "                }\n",
       "                    \n",
       "                .geemap-colab .jupyter-button {\n",
       "                    --jp-layout-color3: var(--colab-primary-surface-color, white);\n",
       "                }\n",
       "            </style>\n",
       "            "
      ],
      "text/plain": [
       "<IPython.core.display.HTML object>"
      ]
     },
     "metadata": {},
     "output_type": "display_data"
    },
    {
     "data": {
      "text/html": [
       "<div>\n",
       "<style scoped>\n",
       "    .dataframe tbody tr th:only-of-type {\n",
       "        vertical-align: middle;\n",
       "    }\n",
       "\n",
       "    .dataframe tbody tr th {\n",
       "        vertical-align: top;\n",
       "    }\n",
       "\n",
       "    .dataframe thead th {\n",
       "        text-align: right;\n",
       "    }\n",
       "</style>\n",
       "<table border=\"1\" class=\"dataframe\">\n",
       "  <thead>\n",
       "    <tr style=\"text-align: right;\">\n",
       "      <th></th>\n",
       "      <th>pointid</th>\n",
       "      <th>sample_order</th>\n",
       "      <th>batch</th>\n",
       "      <th>regio</th>\n",
       "      <th>area_prop_sb</th>\n",
       "      <th>openheid_klasse</th>\n",
       "      <th>sbp</th>\n",
       "      <th>crs</th>\n",
       "      <th>geometry</th>\n",
       "    </tr>\n",
       "  </thead>\n",
       "  <tbody>\n",
       "    <tr>\n",
       "      <th>0</th>\n",
       "      <td>Km_10019</td>\n",
       "      <td>1.0</td>\n",
       "      <td>eerste set</td>\n",
       "      <td>Kempen</td>\n",
       "      <td>0.001557</td>\n",
       "      <td>HOL</td>\n",
       "      <td>binnen</td>\n",
       "      <td>31370</td>\n",
       "      <td>POLYGON ((5.46512 51.10721, 5.46511 51.10707, ...</td>\n",
       "    </tr>\n",
       "    <tr>\n",
       "      <th>1</th>\n",
       "      <td>Km_10056.3</td>\n",
       "      <td>5.0</td>\n",
       "      <td>eerste set</td>\n",
       "      <td>Kempen</td>\n",
       "      <td>0.000000</td>\n",
       "      <td>HOL</td>\n",
       "      <td>binnen</td>\n",
       "      <td>31370</td>\n",
       "      <td>POLYGON ((5.42861 51.06523, 5.42860 51.06509, ...</td>\n",
       "    </tr>\n",
       "    <tr>\n",
       "      <th>2</th>\n",
       "      <td>Km_10910</td>\n",
       "      <td>57.0</td>\n",
       "      <td>eerste set</td>\n",
       "      <td>Kempen</td>\n",
       "      <td>0.000000</td>\n",
       "      <td>HOL</td>\n",
       "      <td>binnen</td>\n",
       "      <td>31370</td>\n",
       "      <td>POLYGON ((5.75928 51.16607, 5.75927 51.16593, ...</td>\n",
       "    </tr>\n",
       "    <tr>\n",
       "      <th>3</th>\n",
       "      <td>Km_12411.5</td>\n",
       "      <td>41.0</td>\n",
       "      <td>eerste set</td>\n",
       "      <td>Kempen</td>\n",
       "      <td>0.000000</td>\n",
       "      <td>HOL</td>\n",
       "      <td>binnen</td>\n",
       "      <td>31370</td>\n",
       "      <td>POLYGON ((4.77799 51.10468, 4.77798 51.10454, ...</td>\n",
       "    </tr>\n",
       "    <tr>\n",
       "      <th>4</th>\n",
       "      <td>Km_13799.2</td>\n",
       "      <td>45.0</td>\n",
       "      <td>eerste set</td>\n",
       "      <td>Kempen</td>\n",
       "      <td>0.000000</td>\n",
       "      <td>HOL</td>\n",
       "      <td>binnen</td>\n",
       "      <td>31370</td>\n",
       "      <td>POLYGON ((4.92203 51.38162, 4.92203 51.38148, ...</td>\n",
       "    </tr>\n",
       "  </tbody>\n",
       "</table>\n",
       "</div>"
      ],
      "text/plain": [
       "      pointid  sample_order       batch   regio  area_prop_sb openheid_klasse  \\\n",
       "0    Km_10019           1.0  eerste set  Kempen      0.001557             HOL   \n",
       "1  Km_10056.3           5.0  eerste set  Kempen      0.000000             HOL   \n",
       "2    Km_10910          57.0  eerste set  Kempen      0.000000             HOL   \n",
       "3  Km_12411.5          41.0  eerste set  Kempen      0.000000             HOL   \n",
       "4  Km_13799.2          45.0  eerste set  Kempen      0.000000             HOL   \n",
       "\n",
       "      sbp    crs                                           geometry  \n",
       "0  binnen  31370  POLYGON ((5.46512 51.10721, 5.46511 51.10707, ...  \n",
       "1  binnen  31370  POLYGON ((5.42861 51.06523, 5.42860 51.06509, ...  \n",
       "2  binnen  31370  POLYGON ((5.75928 51.16607, 5.75927 51.16593, ...  \n",
       "3  binnen  31370  POLYGON ((4.77799 51.10468, 4.77798 51.10454, ...  \n",
       "4  binnen  31370  POLYGON ((4.92203 51.38162, 4.92203 51.38148, ...  "
      ]
     },
     "execution_count": 7,
     "metadata": {},
     "output_type": "execute_result"
    }
   ],
   "source": [
    "#Read telcirkels\n",
    "#  CRS to 4326!!\n",
    "\n",
    "tc = gpd.read_file('../data/processed/telcirkels_viz.gpkg')\n",
    "tc = tc.to_crs(epsg=4326)\n",
    "tc.head(5)"
   ]
  },
  {
   "cell_type": "code",
   "execution_count": null,
   "metadata": {},
   "outputs": [
    {
     "data": {
      "text/html": [
       "\n",
       "            <style>\n",
       "                .geemap-dark {\n",
       "                    --jp-widgets-color: white;\n",
       "                    --jp-widgets-label-color: white;\n",
       "                    --jp-ui-font-color1: white;\n",
       "                    --jp-layout-color2: #454545;\n",
       "                    background-color: #383838;\n",
       "                }\n",
       "                    \n",
       "                .geemap-dark .jupyter-button {\n",
       "                    --jp-layout-color3: #383838;\n",
       "                }\n",
       "                \n",
       "                .geemap-colab {\n",
       "                    background-color: var(--colab-primary-surface-color, white);\n",
       "                }\n",
       "                    \n",
       "                .geemap-colab .jupyter-button {\n",
       "                    --jp-layout-color3: var(--colab-primary-surface-color, white);\n",
       "                }\n",
       "            </style>\n",
       "            "
      ],
      "text/plain": [
       "<IPython.core.display.HTML object>"
      ]
     },
     "metadata": {},
     "output_type": "display_data"
    },
    {
     "ename": "KeyboardInterrupt",
     "evalue": "",
     "output_type": "error",
     "traceback": [
      "\u001b[1;31m---------------------------------------------------------------------------\u001b[0m",
      "\u001b[1;31mKeyboardInterrupt\u001b[0m                         Traceback (most recent call last)",
      "Cell \u001b[1;32mIn[5], line 12\u001b[0m\n\u001b[0;32m      8\u001b[0m path \u001b[38;5;241m=\u001b[39m output_folder\n\u001b[0;32m      9\u001b[0m files_list \u001b[38;5;241m=\u001b[39m os\u001b[38;5;241m.\u001b[39mlistdir(path)\n\u001b[0;32m     11\u001b[0m size_of_file \u001b[38;5;241m=\u001b[39m [\n\u001b[1;32m---> 12\u001b[0m     (f, \u001b[43mos\u001b[49m\u001b[38;5;241;43m.\u001b[39;49m\u001b[43mstat\u001b[49m\u001b[43m(\u001b[49m\u001b[43mos\u001b[49m\u001b[38;5;241;43m.\u001b[39;49m\u001b[43mpath\u001b[49m\u001b[38;5;241;43m.\u001b[39;49m\u001b[43mjoin\u001b[49m\u001b[43m(\u001b[49m\u001b[43mpath\u001b[49m\u001b[43m,\u001b[49m\u001b[43m \u001b[49m\u001b[43mf\u001b[49m\u001b[43m)\u001b[49m\u001b[43m)\u001b[49m\u001b[38;5;241m.\u001b[39mst_size) \u001b[38;5;28;01mfor\u001b[39;00m f \u001b[38;5;129;01min\u001b[39;00m files_list\n\u001b[0;32m     13\u001b[0m ]\n",
      "\u001b[1;31mKeyboardInterrupt\u001b[0m: "
     ]
    }
   ],
   "source": [
    "## testje\n",
    "#tc = tc.loc[tc.pointid.isin(['Lm_11070','Lm_11568.1','Lm_15064.9', 'Lm_8486.3', 'Lm_8898.1.8', 'Lm_9709.1.6'])]\n",
    "#tc = tc.reset_index(drop=True)\n",
    "\n",
    "## redownload\n",
    "\n",
    "# Which points should be redownloaded?\n",
    "#path = output_folder\n",
    "#files_list = os.listdir(path)\n",
    "\n",
    "#size_of_file = [\n",
    "#    (f, os.stat(os.path.join(path, f)).st_size) for f in files_list\n",
    "#]\n",
    "\n",
    "# Iterate over list of files along with size \n",
    "# and print them one by one.\n",
    "\n",
    "#tc_to_redownload = [tc[0] for tc in size_of_file if tc[1]<4000000]\n",
    "#tc_names = [tc.lstrip('multiband_raster_ndvi_').rstrip('_sg.tif') for tc in tc_to_redownload]\n",
    "#print(tc_names)\n",
    "\n",
    "#tc = tc.loc[tc.pointid.isin(tc_names), ].reset_index()"
   ]
  },
  {
   "cell_type": "markdown",
   "metadata": {},
   "source": [
    "## Processing for-loop\n",
    "- Getting time series for every counting point, for all years at once\n",
    "- Exporting them"
   ]
  },
  {
   "cell_type": "code",
   "execution_count": 68,
   "metadata": {},
   "outputs": [
    {
     "data": {
      "text/html": [
       "\n",
       "            <style>\n",
       "                .geemap-dark {\n",
       "                    --jp-widgets-color: white;\n",
       "                    --jp-widgets-label-color: white;\n",
       "                    --jp-ui-font-color1: white;\n",
       "                    --jp-layout-color2: #454545;\n",
       "                    background-color: #383838;\n",
       "                }\n",
       "                    \n",
       "                .geemap-dark .jupyter-button {\n",
       "                    --jp-layout-color3: #383838;\n",
       "                }\n",
       "                \n",
       "                .geemap-colab {\n",
       "                    background-color: var(--colab-primary-surface-color, white);\n",
       "                }\n",
       "                    \n",
       "                .geemap-colab .jupyter-button {\n",
       "                    --jp-layout-color3: var(--colab-primary-surface-color, white);\n",
       "                }\n",
       "            </style>\n",
       "            "
      ],
      "text/plain": [
       "<IPython.core.display.HTML object>"
      ]
     },
     "metadata": {},
     "output_type": "display_data"
    },
    {
     "name": "stdout",
     "output_type": "stream",
     "text": [
      "crs roi EPSG:32631\n",
      "crs roi EPSG:32631\n",
      "crs roi EPSG:32631\n",
      "crs roi EPSG:32631\n",
      "crs roi EPSG:32631\n",
      "crs roi EPSG:32631\n",
      "crs roi EPSG:32631\n",
      "crs roi EPSG:32631\n",
      "crs roi EPSG:32631\n",
      "crs roi EPSG:32631\n",
      "crs roi EPSG:32631\n",
      "crs roi EPSG:32631\n",
      "crs roi EPSG:32631\n",
      "crs roi EPSG:32631\n",
      "crs roi EPSG:32631\n",
      "crs roi EPSG:32631\n",
      "crs roi EPSG:32631\n",
      "crs roi EPSG:32631\n",
      "crs roi EPSG:32631\n",
      "crs roi EPSG:32631\n",
      "crs roi EPSG:32631\n",
      "crs roi EPSG:32631\n",
      "crs roi EPSG:32631\n",
      "crs roi EPSG:32631\n",
      "crs roi EPSG:32631\n",
      "crs roi EPSG:32631\n",
      "crs roi EPSG:32631\n",
      "crs roi EPSG:32631\n",
      "crs roi EPSG:32631\n",
      "crs roi EPSG:32631\n"
     ]
    }
   ],
   "source": [
    "# Loop over every telcirkel, for each one, data\n",
    "sg_name = '_sg' if sg_filter == True else ''\n",
    "failed_downloads = list()\n",
    "\n",
    "for i in range(tc.shape[0]): #\n",
    "    # create a bbox and convert to right format for extracting time series\n",
    "    pointid = tc.loc[i,'pointid']\n",
    "    shape = tc.loc[i,'geometry']\n",
    "\n",
    "\n",
    "    # Create time series with custom function\n",
    "    da = time_series(start, end, start_wdw, end_wdw, shape, vi_arg = vi_str, sg = sg_filter) #input= 'EPSG:4326', output = 'EPSG:32631'\n",
    "    da.rio.set_spatial_dims('X', 'Y', inplace=True)\n",
    "\n",
    "    #-- EXPORT\n",
    "    if export == True:\n",
    "        # Rename dimensions to conform to rioxarray requirements\n",
    "        da = da \\\n",
    "        .rename({'Y': 'y', 'X': 'x'}) \\\n",
    "        .transpose('time', 'y', 'x') \\\n",
    "        .rio.write_crs(\"EPSG:32631\")\n",
    "\n",
    "\n",
    "        # Specify the output file path & export as GTiff\n",
    "\n",
    "        output_file = f'multiband_raster_{vi_str}_{pointid}{sg_name}.tif'\n",
    "        output_path = os.path.join(output_folder, output_file)\n",
    "\n",
    "        try:\n",
    "            da.rio.to_raster(output_path, driver='GTiff', tiled=True, compress='LZW')\n",
    "\n",
    "            # Band renaming with GDAL (to store the dates)\n",
    "            gdal.UseExceptions()\n",
    "\n",
    "            # Define band names (these should be in the order of your bands)\n",
    "            band_names = [str(time).split('T')[0] for time in da.time.values]\n",
    "\n",
    "            # Open the dataset in update mode\n",
    "            dataset = gdal.Open(output_path, gdal.GA_Update)\n",
    "\n",
    "            if dataset:\n",
    "                for i, name in enumerate(band_names, start=1):\n",
    "                    band = dataset.GetRasterBand(i)\n",
    "                    if band:\n",
    "                        band.SetDescription(name)  # Set the band name\n",
    "\n",
    "                dataset = None  # Close the dataset to flush changes\n",
    "            else:\n",
    "                print(\"Error opening file\")\n",
    "        except:\n",
    "            print(f'Download failed for pointid {pointid}')\n",
    "            failed_downloads.append(pointid)"
   ]
  },
  {
   "cell_type": "markdown",
   "metadata": {},
   "source": [
    "## Postprocessing\n",
    "For 30 points there were NA values left in the time series, therefore no savgol function could be applied. So I downloaded these time series separately, without applying the savgol filter. Here, I want to apply some postprocessing (i.e. the same savgol filter applied to all other time series) to these points. \n",
    "\n",
    "Goal is to apply to only the time series with no NA values"
   ]
  },
  {
   "cell_type": "code",
   "execution_count": 98,
   "metadata": {},
   "outputs": [
    {
     "data": {
      "text/html": [
       "\n",
       "            <style>\n",
       "                .geemap-dark {\n",
       "                    --jp-widgets-color: white;\n",
       "                    --jp-widgets-label-color: white;\n",
       "                    --jp-ui-font-color1: white;\n",
       "                    --jp-layout-color2: #454545;\n",
       "                    background-color: #383838;\n",
       "                }\n",
       "                    \n",
       "                .geemap-dark .jupyter-button {\n",
       "                    --jp-layout-color3: #383838;\n",
       "                }\n",
       "                \n",
       "                .geemap-colab {\n",
       "                    background-color: var(--colab-primary-surface-color, white);\n",
       "                }\n",
       "                    \n",
       "                .geemap-colab .jupyter-button {\n",
       "                    --jp-layout-color3: var(--colab-primary-surface-color, white);\n",
       "                }\n",
       "            </style>\n",
       "            "
      ],
      "text/plain": [
       "<IPython.core.display.HTML object>"
      ]
     },
     "metadata": {},
     "output_type": "display_data"
    }
   ],
   "source": [
    "import xarray as xr\n",
    "import rioxarray as rxr\n",
    "from scipy.signal import savgol_filter\n",
    "import numpy as np\n",
    "\n",
    "# List functions\n",
    "def apply_savgol_to_1d(arr, window_length, polyorder):\n",
    "    \"\"\"\n",
    "    Applies the Savitzky-Golay filter to a 1D numpy array,\n",
    "    ignoring NaN values.\n",
    "    \"\"\"\n",
    "    if np.isnan(arr).all():\n",
    "        return arr\n",
    "    \n",
    "    # Get indices of non-NaN values\n",
    "    not_nan_indices = ~np.isnan(arr)\n",
    "    \n",
    "    # Apply filter to non-NaN values\n",
    "    filtered_values = savgol_filter(arr[not_nan_indices], window_length, polyorder)\n",
    "    \n",
    "    # Create an output array with the original size\n",
    "    output_arr = np.full_like(arr, np.nan)\n",
    "    \n",
    "    # Place filtered values back in their original positions\n",
    "    output_arr[not_nan_indices] = filtered_values\n",
    "    \n",
    "    return output_arr\n",
    "\n",
    "def savgol_filter_xr(da, dim, window_length, polyorder):\n",
    "    \"\"\"\n",
    "    Applies the Savitzky-Golay filter to an xarray.DataArray along a specified dimension,\n",
    "    handling NaN values.\n",
    "    \"\"\"\n",
    "    return xr.apply_ufunc(\n",
    "        apply_savgol_to_1d,\n",
    "        da,\n",
    "        input_core_dims=[[dim]],\n",
    "        output_core_dims=[[dim]],\n",
    "        exclude_dims={dim},\n",
    "        kwargs={\"window_length\": window_length, \"polyorder\": polyorder},\n",
    "        dask='parallelized',\n",
    "        output_dtypes=[da.dtype],\n",
    "        vectorize=True,\n",
    "        keep_attrs=True\n",
    "    )\n",
    "\n",
    "\n",
    "window_length = 5\n",
    "polyorder = 2\n",
    "\n",
    "#-- Apply functions\n",
    "# List all files that don't end with '_sg' (=savgol)\n",
    "rasters = [file for file in os.listdir(output_folder) if not file.endswith('_sg.tif')]\n",
    "\n",
    "for raster_name in rasters:\n",
    "\n",
    "    raster_arr = rxr.open_rasterio(os.path.join(output_folder, raster_name))\n",
    "\n",
    "    # Apply the savgol filter\n",
    "    filtered_raster = savgol_filter_xr(raster_arr, 'band', window_length, polyorder)\n",
    "\n",
    "    # Save the filtered raster\n",
    "    filtered_raster.transpose('band', 'y', 'x').rio.to_raster(os.path.join(output_folder, raster_name.rstrip('.tif') + '_sg.tif'))"
   ]
  }
 ],
 "metadata": {
  "kernelspec": {
   "display_name": "ee",
   "language": "python",
   "name": "python3"
  },
  "language_info": {
   "codemirror_mode": {
    "name": "ipython",
    "version": 3
   },
   "file_extension": ".py",
   "mimetype": "text/x-python",
   "name": "python",
   "nbconvert_exporter": "python",
   "pygments_lexer": "ipython3",
   "version": "3.12.0"
  }
 },
 "nbformat": 4,
 "nbformat_minor": 2
}
