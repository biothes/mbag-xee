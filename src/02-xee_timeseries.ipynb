{
 "cells": [
  {
   "cell_type": "code",
   "execution_count": 1,
   "metadata": {},
   "outputs": [],
   "source": [
    "%load_ext autoreload\n",
    "%autoreload 2"
   ]
  },
  {
   "cell_type": "code",
   "execution_count": 1,
   "metadata": {},
   "outputs": [],
   "source": [
    "import os\n",
    "import ee\n",
    "import xee\n",
    "import geemap\n",
    "import geopandas as gpd\n",
    "import numpy as np\n",
    "import pandas as pd\n",
    "import xarray\n",
    "import matplotlib.pyplot as plt\n",
    "from shapely.geometry import box\n",
    "from scipy.signal import savgol_filter\n",
    "import rasterio\n",
    "from rasterio.features import rasterize\n",
    "from osgeo import gdal\n",
    "import rioxarray\n",
    "\n",
    "from func_mask import get_s2, add_cld_shdw_mask, apply_mask, addNDVI\n",
    "from func_processing import time_series, ts_telcirkel_per_jaar, bare_soil_calc, bare_soil_format\n"
   ]
  },
  {
   "cell_type": "code",
   "execution_count": 26,
   "metadata": {},
   "outputs": [
    {
     "data": {
      "text/html": [
       "\n",
       "            <style>\n",
       "                .geemap-dark {\n",
       "                    --jp-widgets-color: white;\n",
       "                    --jp-widgets-label-color: white;\n",
       "                    --jp-ui-font-color1: white;\n",
       "                    --jp-layout-color2: #454545;\n",
       "                    background-color: #383838;\n",
       "                }\n",
       "\n",
       "                .geemap-dark .jupyter-button {\n",
       "                    --jp-layout-color3: #383838;\n",
       "                }\n",
       "\n",
       "                .geemap-colab {\n",
       "                    background-color: var(--colab-primary-surface-color, white);\n",
       "                }\n",
       "\n",
       "                .geemap-colab .jupyter-button {\n",
       "                    --jp-layout-color3: var(--colab-primary-surface-color, white);\n",
       "                }\n",
       "            </style>\n",
       "            "
      ],
      "text/plain": [
       "<IPython.core.display.HTML object>"
      ]
     },
     "metadata": {},
     "output_type": "display_data"
    }
   ],
   "source": [
    "try:\n",
    "    #ee.Initialize()\n",
    "    ee.Initialize(opt_url='https://earthengine-highvolume.googleapis.com')\n",
    "except:\n",
    "    ee.Authenticate(project='ee-katovanpoucke')"
   ]
  },
  {
   "cell_type": "markdown",
   "metadata": {},
   "source": [
    "## Settings"
   ]
  },
  {
   "cell_type": "code",
   "execution_count": 2,
   "metadata": {},
   "outputs": [
    {
     "data": {
      "text/html": [
       "\n",
       "            <style>\n",
       "                .geemap-dark {\n",
       "                    --jp-widgets-color: white;\n",
       "                    --jp-widgets-label-color: white;\n",
       "                    --jp-ui-font-color1: white;\n",
       "                    --jp-layout-color2: #454545;\n",
       "                    background-color: #383838;\n",
       "                }\n",
       "\n",
       "                .geemap-dark .jupyter-button {\n",
       "                    --jp-layout-color3: #383838;\n",
       "                }\n",
       "\n",
       "                .geemap-colab {\n",
       "                    background-color: var(--colab-primary-surface-color, white);\n",
       "                }\n",
       "\n",
       "                .geemap-colab .jupyter-button {\n",
       "                    --jp-layout-color3: var(--colab-primary-surface-color, white);\n",
       "                }\n",
       "            </style>\n",
       "            "
      ],
      "text/plain": [
       "<IPython.core.display.HTML object>"
      ]
     },
     "metadata": {},
     "output_type": "display_data"
    }
   ],
   "source": [
    "# Voor twee jaar\n",
    "start = '2021-11-01' # iets langer dan period of interest zodat we kunnen interpoleren\n",
    "end = '2024-01-15'\n",
    "\n",
    "start_wdw = '2022-02-01' # de echte period of interest\n",
    "end_wdw = '2023-09-01'\n",
    "\n",
    "vi_str = 'ndvi' # welke vegetatie-index\n",
    "sg_filter = True # gebruik van een Savitzky-Golay filter \n",
    "\n",
    "output_folder = 'Q:/Projects/PRJ_MBAG/4d_bwk/project-telcirkels/rasters-telcirkels'\n",
    "export = True"
   ]
  },
  {
   "cell_type": "markdown",
   "metadata": {},
   "source": [
    "## Reading geometries (telcirkels)\n",
    "Processing of the geometries was done in R script 01-process-geometries.R. Outputs were written to shared Q-drive. These processed geometries are now loaded here, so that they can be used in xarray earth engine. The counting points stay the same over the years, this means that we will download the required imagery for all years we want (e.g. 2022 and 2023) at the same time."
   ]
  },
  {
   "cell_type": "code",
   "execution_count": 3,
   "metadata": {},
   "outputs": [
    {
     "data": {
      "text/html": [
       "\n",
       "            <style>\n",
       "                .geemap-dark {\n",
       "                    --jp-widgets-color: white;\n",
       "                    --jp-widgets-label-color: white;\n",
       "                    --jp-ui-font-color1: white;\n",
       "                    --jp-layout-color2: #454545;\n",
       "                    background-color: #383838;\n",
       "                }\n",
       "\n",
       "                .geemap-dark .jupyter-button {\n",
       "                    --jp-layout-color3: #383838;\n",
       "                }\n",
       "\n",
       "                .geemap-colab {\n",
       "                    background-color: var(--colab-primary-surface-color, white);\n",
       "                }\n",
       "\n",
       "                .geemap-colab .jupyter-button {\n",
       "                    --jp-layout-color3: var(--colab-primary-surface-color, white);\n",
       "                }\n",
       "            </style>\n",
       "            "
      ],
      "text/plain": [
       "<IPython.core.display.HTML object>"
      ]
     },
     "metadata": {},
     "output_type": "display_data"
    },
    {
     "data": {
      "text/html": [
       "<div>\n",
       "<style scoped>\n",
       "    .dataframe tbody tr th:only-of-type {\n",
       "        vertical-align: middle;\n",
       "    }\n",
       "\n",
       "    .dataframe tbody tr th {\n",
       "        vertical-align: top;\n",
       "    }\n",
       "\n",
       "    .dataframe thead th {\n",
       "        text-align: right;\n",
       "    }\n",
       "</style>\n",
       "<table border=\"1\" class=\"dataframe\">\n",
       "  <thead>\n",
       "    <tr style=\"text-align: right;\">\n",
       "      <th></th>\n",
       "      <th>pointid</th>\n",
       "      <th>sample_order</th>\n",
       "      <th>batch</th>\n",
       "      <th>regio</th>\n",
       "      <th>area_prop_sb</th>\n",
       "      <th>openheid_klasse</th>\n",
       "      <th>sbp</th>\n",
       "      <th>crs</th>\n",
       "      <th>geometry</th>\n",
       "    </tr>\n",
       "  </thead>\n",
       "  <tbody>\n",
       "    <tr>\n",
       "      <th>0</th>\n",
       "      <td>Km_10015</td>\n",
       "      <td>238</td>\n",
       "      <td>eerste set</td>\n",
       "      <td>Kempen</td>\n",
       "      <td>0.006130</td>\n",
       "      <td>HOL</td>\n",
       "      <td>binnen</td>\n",
       "      <td>31370</td>\n",
       "      <td>POLYGON ((5.42787 51.11650, 5.42787 51.11636, ...</td>\n",
       "    </tr>\n",
       "    <tr>\n",
       "      <th>1</th>\n",
       "      <td>Km_10019</td>\n",
       "      <td>1</td>\n",
       "      <td>eerste set</td>\n",
       "      <td>Kempen</td>\n",
       "      <td>0.001557</td>\n",
       "      <td>HOL</td>\n",
       "      <td>binnen</td>\n",
       "      <td>31370</td>\n",
       "      <td>POLYGON ((5.46512 51.10721, 5.46511 51.10707, ...</td>\n",
       "    </tr>\n",
       "    <tr>\n",
       "      <th>2</th>\n",
       "      <td>Km_10056.3</td>\n",
       "      <td>5</td>\n",
       "      <td>eerste set</td>\n",
       "      <td>Kempen</td>\n",
       "      <td>0.000000</td>\n",
       "      <td>HOL</td>\n",
       "      <td>binnen</td>\n",
       "      <td>31370</td>\n",
       "      <td>POLYGON ((5.42861 51.06523, 5.42860 51.06509, ...</td>\n",
       "    </tr>\n",
       "    <tr>\n",
       "      <th>3</th>\n",
       "      <td>Km_10565.2.3</td>\n",
       "      <td>201</td>\n",
       "      <td>eerste set</td>\n",
       "      <td>Kempen</td>\n",
       "      <td>0.000000</td>\n",
       "      <td>HOL</td>\n",
       "      <td>binnen</td>\n",
       "      <td>31370</td>\n",
       "      <td>POLYGON ((4.88856 50.97978, 4.88856 50.97964, ...</td>\n",
       "    </tr>\n",
       "    <tr>\n",
       "      <th>4</th>\n",
       "      <td>Km_10577.3</td>\n",
       "      <td>13</td>\n",
       "      <td>eerste set</td>\n",
       "      <td>Kempen</td>\n",
       "      <td>0.000000</td>\n",
       "      <td>HOL</td>\n",
       "      <td>binnen</td>\n",
       "      <td>31370</td>\n",
       "      <td>POLYGON ((4.87989 50.99397, 4.87988 50.99383, ...</td>\n",
       "    </tr>\n",
       "  </tbody>\n",
       "</table>\n",
       "</div>"
      ],
      "text/plain": [
       "        pointid  sample_order       batch   regio  area_prop_sb  \\\n",
       "0      Km_10015           238  eerste set  Kempen      0.006130   \n",
       "1      Km_10019             1  eerste set  Kempen      0.001557   \n",
       "2    Km_10056.3             5  eerste set  Kempen      0.000000   \n",
       "3  Km_10565.2.3           201  eerste set  Kempen      0.000000   \n",
       "4    Km_10577.3            13  eerste set  Kempen      0.000000   \n",
       "\n",
       "  openheid_klasse     sbp    crs  \\\n",
       "0             HOL  binnen  31370   \n",
       "1             HOL  binnen  31370   \n",
       "2             HOL  binnen  31370   \n",
       "3             HOL  binnen  31370   \n",
       "4             HOL  binnen  31370   \n",
       "\n",
       "                                            geometry  \n",
       "0  POLYGON ((5.42787 51.11650, 5.42787 51.11636, ...  \n",
       "1  POLYGON ((5.46512 51.10721, 5.46511 51.10707, ...  \n",
       "2  POLYGON ((5.42861 51.06523, 5.42860 51.06509, ...  \n",
       "3  POLYGON ((4.88856 50.97978, 4.88856 50.97964, ...  \n",
       "4  POLYGON ((4.87989 50.99397, 4.87988 50.99383, ...  "
      ]
     },
     "execution_count": 3,
     "metadata": {},
     "output_type": "execute_result"
    }
   ],
   "source": [
    "#Read telcirkels\n",
    "#  CRS to 4326!!\n",
    "\n",
    "tc = gpd.read_file('../data/processed/steekproef_mbag_mas.gpkg')\n",
    "tc = tc.to_crs(epsg=4326)\n",
    "tc.head(5)"
   ]
  },
  {
   "cell_type": "code",
   "execution_count": 39,
   "metadata": {},
   "outputs": [
    {
     "data": {
      "text/html": [
       "\n",
       "            <style>\n",
       "                .geemap-dark {\n",
       "                    --jp-widgets-color: white;\n",
       "                    --jp-widgets-label-color: white;\n",
       "                    --jp-ui-font-color1: white;\n",
       "                    --jp-layout-color2: #454545;\n",
       "                    background-color: #383838;\n",
       "                }\n",
       "\n",
       "                .geemap-dark .jupyter-button {\n",
       "                    --jp-layout-color3: #383838;\n",
       "                }\n",
       "\n",
       "                .geemap-colab {\n",
       "                    background-color: var(--colab-primary-surface-color, white);\n",
       "                }\n",
       "\n",
       "                .geemap-colab .jupyter-button {\n",
       "                    --jp-layout-color3: var(--colab-primary-surface-color, white);\n",
       "                }\n",
       "            </style>\n",
       "            "
      ],
      "text/plain": [
       "<IPython.core.display.HTML object>"
      ]
     },
     "metadata": {},
     "output_type": "display_data"
    }
   ],
   "source": [
    "## testje\n",
    "tc = tc.loc[tc.pointid.isin(['Lm_11070','Lm_11568.1','Lm_15064.9', 'Lm_8486.3', 'Lm_8898.1.8', 'Lm_9709.1.6', 'Zn_10111.7', 'Zn_10583.5', 'Zn_11411.7'])]\n",
    "tc = tc.reset_index(drop=True)\n"
   ]
  },
  {
   "cell_type": "markdown",
   "metadata": {},
   "source": [
    "## Processing for-loop\n",
    "- Getting time series for every counting point, for all years at once\n",
    "- Exporting them"
   ]
  },
  {
   "cell_type": "code",
   "execution_count": 40,
   "metadata": {},
   "outputs": [
    {
     "data": {
      "text/html": [
       "\n",
       "            <style>\n",
       "                .geemap-dark {\n",
       "                    --jp-widgets-color: white;\n",
       "                    --jp-widgets-label-color: white;\n",
       "                    --jp-ui-font-color1: white;\n",
       "                    --jp-layout-color2: #454545;\n",
       "                    background-color: #383838;\n",
       "                }\n",
       "\n",
       "                .geemap-dark .jupyter-button {\n",
       "                    --jp-layout-color3: #383838;\n",
       "                }\n",
       "\n",
       "                .geemap-colab {\n",
       "                    background-color: var(--colab-primary-surface-color, white);\n",
       "                }\n",
       "\n",
       "                .geemap-colab .jupyter-button {\n",
       "                    --jp-layout-color3: var(--colab-primary-surface-color, white);\n",
       "                }\n",
       "            </style>\n",
       "            "
      ],
      "text/plain": [
       "<IPython.core.display.HTML object>"
      ]
     },
     "metadata": {},
     "output_type": "display_data"
    },
    {
     "name": "stdout",
     "output_type": "stream",
     "text": [
      "crs roi EPSG:32631\n",
      "crs roi EPSG:32631\n",
      "crs roi EPSG:32631\n",
      "crs roi EPSG:32631\n",
      "crs roi EPSG:32631\n",
      "crs roi EPSG:32631\n",
      "crs roi EPSG:32631\n",
      "crs roi EPSG:32631\n",
      "crs roi EPSG:32631\n"
     ]
    }
   ],
   "source": [
    "# Loop over every telcirkel, for each one, data\n",
    "sg_name = '_sg' if sg_filter == True else ''\n",
    "\n",
    "for i in range(tc.shape[0]): #\n",
    "    # create a bbox and convert to right format for extracting time series\n",
    "    pointid = tc.loc[i,'pointid']\n",
    "    shape = tc.loc[i,'geometry']\n",
    "\n",
    "\n",
    "    # Create time series with custom function\n",
    "    da = time_series(start, end, start_wdw, end_wdw, shape, vi_arg = vi_str, sg = sg_filter) #input= 'EPSG:4326', output = 'EPSG:32631'\n",
    "    da.rio.set_spatial_dims('X', 'Y', inplace=True)\n",
    "\n",
    "    #-- EXPORT\n",
    "    if export == True:\n",
    "        # Rename dimensions to conform to rioxarray requirements\n",
    "        da = da \\\n",
    "        .rename({'Y': 'y', 'X': 'x'}) \\\n",
    "        .transpose('time', 'y', 'x') \\\n",
    "        .rio.write_crs(\"EPSG:32631\")\n",
    "\n",
    "\n",
    "        # Specify the output file path & export as GTiff\n",
    "\n",
    "        output_file = f'multiband_raster_{vi_str}_{pointid}{sg_name}.tif'\n",
    "        output_path = os.path.join(output_folder, output_file)\n",
    "        da.rio.to_raster(output_path, driver='GTiff', tiled=True, compress='LZW')\n",
    "\n",
    "        # Band renaming with GDAL (to store the dates)\n",
    "        gdal.UseExceptions()\n",
    "\n",
    "        # Define band names (these should be in the order of your bands)\n",
    "        band_names = [str(time).split('T')[0] for time in da.time.values]\n",
    "\n",
    "        # Open the dataset in update mode\n",
    "        dataset = gdal.Open(output_path, gdal.GA_Update)\n",
    "\n",
    "        if dataset:\n",
    "            for i, name in enumerate(band_names, start=1):\n",
    "                band = dataset.GetRasterBand(i)\n",
    "                if band:\n",
    "                    band.SetDescription(name)  # Set the band name\n",
    "\n",
    "            dataset = None  # Close the dataset to flush changes\n",
    "        else:\n",
    "            print(\"Error opening file\")"
   ]
  },
  {
   "cell_type": "markdown",
   "metadata": {},
   "source": [
    "## Bare soil analysis\n",
    "Eerst de weggeschreven rasters terug inladen op de juiste manier (time index valt onder andere weg blijkbaar). Daarna op de ingeladen data de *bare soil analysis* doen. De analyse op de weggeschreven rasters doen gaat veel sneller dan het rechtstreeks uit te voeren wanneer de data van earth engine komt! De *bare soil analysis* moet per jaar apart gebeuren met de bijbehorende landbouwgebruikspercelen, terwijl de rasters gedownload zijn voor verschillenden jaren tegelijk. In deze analyse moet dus andere polygonen gebruikt worden afhankelijk van het jaar."
   ]
  },
  {
   "cell_type": "code",
   "execution_count": 4,
   "metadata": {},
   "outputs": [
    {
     "data": {
      "text/html": [
       "\n",
       "            <style>\n",
       "                .geemap-dark {\n",
       "                    --jp-widgets-color: white;\n",
       "                    --jp-widgets-label-color: white;\n",
       "                    --jp-ui-font-color1: white;\n",
       "                    --jp-layout-color2: #454545;\n",
       "                    background-color: #383838;\n",
       "                }\n",
       "\n",
       "                .geemap-dark .jupyter-button {\n",
       "                    --jp-layout-color3: #383838;\n",
       "                }\n",
       "\n",
       "                .geemap-colab {\n",
       "                    background-color: var(--colab-primary-surface-color, white);\n",
       "                }\n",
       "\n",
       "                .geemap-colab .jupyter-button {\n",
       "                    --jp-layout-color3: var(--colab-primary-surface-color, white);\n",
       "                }\n",
       "            </style>\n",
       "            "
      ],
      "text/plain": [
       "<IPython.core.display.HTML object>"
      ]
     },
     "metadata": {},
     "output_type": "display_data"
    },
    {
     "data": {
      "text/plain": [
       "<Axes: >"
      ]
     },
     "execution_count": 4,
     "metadata": {},
     "output_type": "execute_result"
    },
    {
     "data": {
      "image/png": "[encoded data removed]",
      "text/plain": [
       "<Figure size 640x480 with 1 Axes>"
      ]
     },
     "metadata": {},
     "output_type": "display_data"
    }
   ],
   "source": [
    "# Reading in all the parcels from Z-/Q-schijf and combining into one \n",
    "gdf_2022 = gpd.read_file('Q:/Projects/PRJ_MBAG/4d_bwk/project-telcirkels/landbouwgebruikspercelen_cut_bo_2022_clip.gpkg').to_crs(32631)\n",
    "gdf_2023 = gpd.read_file('Q:/Projects/PRJ_MBAG/4d_bwk/project-telcirkels/landbouwgebruikspercelen_cut_bo_2023_clip.gpkg').to_crs(32631)\n",
    "\n",
    "gdf_2022.head(5)\n",
    "\n",
    "# Dictionary met de geodataframes per jaar (aanpassen als je meer of minder jaren wilt, moet natuurlijk binnen het tijdsbereik waarvoor er rasters gedownload zijn)\n",
    "analysis_years_dict = {2022: gdf_2022, 2023: gdf_2023}\n",
    "\n",
    "# CRS should be 4326\n",
    "gdf_2022.loc[(gdf_2022.pointid == 'Km_26663.17')].plot(color='lightblue', edgecolor='black', linewidth=1)"
   ]
  },
  {
   "cell_type": "code",
   "execution_count": 5,
   "metadata": {},
   "outputs": [
    {
     "data": {
      "text/html": [
       "\n",
       "            <style>\n",
       "                .geemap-dark {\n",
       "                    --jp-widgets-color: white;\n",
       "                    --jp-widgets-label-color: white;\n",
       "                    --jp-ui-font-color1: white;\n",
       "                    --jp-layout-color2: #454545;\n",
       "                    background-color: #383838;\n",
       "                }\n",
       "\n",
       "                .geemap-dark .jupyter-button {\n",
       "                    --jp-layout-color3: #383838;\n",
       "                }\n",
       "\n",
       "                .geemap-colab {\n",
       "                    background-color: var(--colab-primary-surface-color, white);\n",
       "                }\n",
       "\n",
       "                .geemap-colab .jupyter-button {\n",
       "                    --jp-layout-color3: var(--colab-primary-surface-color, white);\n",
       "                }\n",
       "            </style>\n",
       "            "
      ],
      "text/plain": [
       "<IPython.core.display.HTML object>"
      ]
     },
     "metadata": {},
     "output_type": "display_data"
    },
    {
     "name": "stdout",
     "output_type": "stream",
     "text": [
      "multiband_raster_ndvi_Km_10015_sg.tif\n",
      "multiband_raster_ndvi_Km_10019_sg.tif\n",
      "multiband_raster_ndvi_Km_10056.3_sg.tif\n",
      "multiband_raster_ndvi_Km_10565.2.3_sg.tif\n",
      "multiband_raster_ndvi_Km_10577.3_sg.tif\n",
      "multiband_raster_ndvi_Km_10810.1_sg.tif\n",
      "multiband_raster_ndvi_Lm_11070_sg.tif\n",
      "multiband_raster_ndvi_Lm_11568.1_sg.tif\n",
      "multiband_raster_ndvi_Lm_15064.9_sg.tif\n",
      "multiband_raster_ndvi_Lm_8486.3_sg.tif\n",
      "multiband_raster_ndvi_Lm_8898.1.8_sg.tif\n",
      "multiband_raster_ndvi_Lm_9709.1.6_sg.tif\n",
      "multiband_raster_ndvi_Zn_10111.7_sg.tif\n",
      "multiband_raster_ndvi_Zn_10583.5_sg.tif\n",
      "multiband_raster_ndvi_Zn_11411.7_sg.tif\n"
     ]
    },
    {
     "data": {
      "text/html": [
       "<div>\n",
       "<style scoped>\n",
       "    .dataframe tbody tr th:only-of-type {\n",
       "        vertical-align: middle;\n",
       "    }\n",
       "\n",
       "    .dataframe tbody tr th {\n",
       "        vertical-align: top;\n",
       "    }\n",
       "\n",
       "    .dataframe thead th {\n",
       "        text-align: right;\n",
       "    }\n",
       "</style>\n",
       "<table border=\"1\" class=\"dataframe\">\n",
       "  <thead>\n",
       "    <tr style=\"text-align: right;\">\n",
       "      <th></th>\n",
       "      <th>pointid</th>\n",
       "      <th>REF_ID</th>\n",
       "      <th>time</th>\n",
       "      <th>ndvi</th>\n",
       "    </tr>\n",
       "  </thead>\n",
       "  <tbody>\n",
       "    <tr>\n",
       "      <th>0</th>\n",
       "      <td>Km_10015</td>\n",
       "      <td>403232939</td>\n",
       "      <td>2022-02-01</td>\n",
       "      <td>0.131130</td>\n",
       "    </tr>\n",
       "    <tr>\n",
       "      <th>1</th>\n",
       "      <td>Km_10015</td>\n",
       "      <td>403232939</td>\n",
       "      <td>2022-02-11</td>\n",
       "      <td>0.211103</td>\n",
       "    </tr>\n",
       "    <tr>\n",
       "      <th>2</th>\n",
       "      <td>Km_10015</td>\n",
       "      <td>403232939</td>\n",
       "      <td>2022-02-21</td>\n",
       "      <td>0.275849</td>\n",
       "    </tr>\n",
       "    <tr>\n",
       "      <th>3</th>\n",
       "      <td>Km_10015</td>\n",
       "      <td>403232939</td>\n",
       "      <td>2022-03-03</td>\n",
       "      <td>0.334228</td>\n",
       "    </tr>\n",
       "    <tr>\n",
       "      <th>4</th>\n",
       "      <td>Km_10015</td>\n",
       "      <td>403232939</td>\n",
       "      <td>2022-03-13</td>\n",
       "      <td>0.351813</td>\n",
       "    </tr>\n",
       "    <tr>\n",
       "      <th>...</th>\n",
       "      <td>...</td>\n",
       "      <td>...</td>\n",
       "      <td>...</td>\n",
       "      <td>...</td>\n",
       "    </tr>\n",
       "    <tr>\n",
       "      <th>20415</th>\n",
       "      <td>Zn_11411.7</td>\n",
       "      <td>2320375089</td>\n",
       "      <td>2023-07-16</td>\n",
       "      <td>0.634000</td>\n",
       "    </tr>\n",
       "    <tr>\n",
       "      <th>20416</th>\n",
       "      <td>Zn_11411.7</td>\n",
       "      <td>2320375089</td>\n",
       "      <td>2023-07-26</td>\n",
       "      <td>0.598350</td>\n",
       "    </tr>\n",
       "    <tr>\n",
       "      <th>20417</th>\n",
       "      <td>Zn_11411.7</td>\n",
       "      <td>2320375089</td>\n",
       "      <td>2023-08-05</td>\n",
       "      <td>0.580685</td>\n",
       "    </tr>\n",
       "    <tr>\n",
       "      <th>20418</th>\n",
       "      <td>Zn_11411.7</td>\n",
       "      <td>2320375089</td>\n",
       "      <td>2023-08-15</td>\n",
       "      <td>0.585071</td>\n",
       "    </tr>\n",
       "    <tr>\n",
       "      <th>20419</th>\n",
       "      <td>Zn_11411.7</td>\n",
       "      <td>2320375089</td>\n",
       "      <td>2023-08-25</td>\n",
       "      <td>0.605107</td>\n",
       "    </tr>\n",
       "  </tbody>\n",
       "</table>\n",
       "<p>20420 rows × 4 columns</p>\n",
       "</div>"
      ],
      "text/plain": [
       "          pointid      REF_ID       time      ndvi\n",
       "0        Km_10015   403232939 2022-02-01  0.131130\n",
       "1        Km_10015   403232939 2022-02-11  0.211103\n",
       "2        Km_10015   403232939 2022-02-21  0.275849\n",
       "3        Km_10015   403232939 2022-03-03  0.334228\n",
       "4        Km_10015   403232939 2022-03-13  0.351813\n",
       "...           ...         ...        ...       ...\n",
       "20415  Zn_11411.7  2320375089 2023-07-16  0.634000\n",
       "20416  Zn_11411.7  2320375089 2023-07-26  0.598350\n",
       "20417  Zn_11411.7  2320375089 2023-08-05  0.580685\n",
       "20418  Zn_11411.7  2320375089 2023-08-15  0.585071\n",
       "20419  Zn_11411.7  2320375089 2023-08-25  0.605107\n",
       "\n",
       "[20420 rows x 4 columns]"
      ]
     },
     "execution_count": 5,
     "metadata": {},
     "output_type": "execute_result"
    }
   ],
   "source": [
    "#-- Polygon aggregation\n",
    "# Create empty dataframe for storage results (polygon-aggregated time series)\n",
    "df_ts = pd.DataFrame(columns=['REF_ID', 'pointid', 'time', 'ndvi'])\n",
    "\n",
    "raster_files = os.listdir(output_folder)\n",
    "\n",
    "for file in raster_files:\n",
    "    print(file)\n",
    "    \n",
    "    # Open the raster file\n",
    "    raster = rioxarray.open_rasterio(os.path.join(output_folder,file))\n",
    "\n",
    "    # Extract dates from the 'long_name' attribute, convert to datetime & assign to 'band' coordinate\n",
    "    dates = [raster.attrs['long_name'][i] for i in range(len(raster.band))]\n",
    "    time_index = pd.to_datetime(dates)\n",
    "    raster['band'] = time_index\n",
    "\n",
    "\n",
    "    # Xarray settings\n",
    "    raster = raster.rename({'band': 'time', 'x' : 'X', 'y': 'Y'}).transpose('time', 'X', 'Y')\n",
    "    raster = raster.rio.set_spatial_dims('X','Y')\n",
    "    raster.rio.write_crs(\"EPSG:32631\", inplace=True)\n",
    "\n",
    "    # Extract pointid\n",
    "    # pointid moet overeenkomen met de raster waarvoor de data opgehaald wordt, anders probleem met geen overlap tussen raster en polygon\n",
    "    if sg_filter == False:\n",
    "        pointid = file.lstrip('multiband_raster_').rstrip('_test.tif')\n",
    "    elif sg_filter == True:\n",
    "        pointid = file.lstrip(f'multiband_raster_{vi_str}').rstrip('_sg.tif')\n",
    "        \n",
    "    # In deze for-loop worden de tijdsreeksen voor het telpunt per jaar apart toegevoegd; afhankelijk van de geodataframes die in de dictionary zitten\n",
    "    for year, gdf_year in analysis_years_dict.items():\n",
    "        df_ts = ts_telcirkel_per_jaar(raster=raster, gdf=gdf_year, year=year, pointid=pointid, df_ts=df_ts)\n",
    "\n",
    "df_ts = df_ts.sort_values(by = ['pointid','REF_ID','time']).reset_index(drop=True)\n",
    "df_ts = df_ts[['pointid', 'REF_ID', 'time', 'ndvi']]\n",
    "df_ts.to_csv('../outputs/output_analysis/time_series.csv')\n",
    "\n",
    "df_ts"
   ]
  },
  {
   "cell_type": "markdown",
   "metadata": {},
   "source": [
    "Ik gok dat string *index out of range* komt doordat ik het downloaden van de rasters vroegtijdig heb afgebroken, waardoor in de DataArray'long_name' als 'ndvi' gebleven is en niet de datums die het moeten zijn. Ik denk dus dat het geen probleem is in de code."
   ]
  },
  {
   "cell_type": "code",
   "execution_count": 6,
   "metadata": {},
   "outputs": [
    {
     "data": {
      "text/html": [
       "\n",
       "            <style>\n",
       "                .geemap-dark {\n",
       "                    --jp-widgets-color: white;\n",
       "                    --jp-widgets-label-color: white;\n",
       "                    --jp-ui-font-color1: white;\n",
       "                    --jp-layout-color2: #454545;\n",
       "                    background-color: #383838;\n",
       "                }\n",
       "\n",
       "                .geemap-dark .jupyter-button {\n",
       "                    --jp-layout-color3: #383838;\n",
       "                }\n",
       "\n",
       "                .geemap-colab {\n",
       "                    background-color: var(--colab-primary-surface-color, white);\n",
       "                }\n",
       "\n",
       "                .geemap-colab .jupyter-button {\n",
       "                    --jp-layout-color3: var(--colab-primary-surface-color, white);\n",
       "                }\n",
       "            </style>\n",
       "            "
      ],
      "text/plain": [
       "<IPython.core.display.HTML object>"
      ]
     },
     "metadata": {},
     "output_type": "display_data"
    },
    {
     "data": {
      "text/html": [
       "<div>\n",
       "<style scoped>\n",
       "    .dataframe tbody tr th:only-of-type {\n",
       "        vertical-align: middle;\n",
       "    }\n",
       "\n",
       "    .dataframe tbody tr th {\n",
       "        vertical-align: top;\n",
       "    }\n",
       "\n",
       "    .dataframe thead th {\n",
       "        text-align: right;\n",
       "    }\n",
       "</style>\n",
       "<table border=\"1\" class=\"dataframe\">\n",
       "  <thead>\n",
       "    <tr style=\"text-align: right;\">\n",
       "      <th></th>\n",
       "      <th>pointid</th>\n",
       "      <th>year</th>\n",
       "      <th>period</th>\n",
       "      <th>% bare soil</th>\n",
       "    </tr>\n",
       "  </thead>\n",
       "  <tbody>\n",
       "    <tr>\n",
       "      <th>0</th>\n",
       "      <td>Km_10015</td>\n",
       "      <td>2023</td>\n",
       "      <td>R1</td>\n",
       "      <td>0.499656</td>\n",
       "    </tr>\n",
       "    <tr>\n",
       "      <th>1</th>\n",
       "      <td>Km_10019</td>\n",
       "      <td>2023</td>\n",
       "      <td>R1</td>\n",
       "      <td>29.591673</td>\n",
       "    </tr>\n",
       "    <tr>\n",
       "      <th>2</th>\n",
       "      <td>Km_10056.3</td>\n",
       "      <td>2023</td>\n",
       "      <td>R1</td>\n",
       "      <td>9.964779</td>\n",
       "    </tr>\n",
       "    <tr>\n",
       "      <th>3</th>\n",
       "      <td>Km_10565.2.3</td>\n",
       "      <td>2023</td>\n",
       "      <td>R1</td>\n",
       "      <td>46.105010</td>\n",
       "    </tr>\n",
       "    <tr>\n",
       "      <th>4</th>\n",
       "      <td>Km_10577.3</td>\n",
       "      <td>2023</td>\n",
       "      <td>R1</td>\n",
       "      <td>4.102443</td>\n",
       "    </tr>\n",
       "  </tbody>\n",
       "</table>\n",
       "</div>"
      ],
      "text/plain": [
       "        pointid  year period  % bare soil\n",
       "0      Km_10015  2023     R1     0.499656\n",
       "1      Km_10019  2023     R1    29.591673\n",
       "2    Km_10056.3  2023     R1     9.964779\n",
       "3  Km_10565.2.3  2023     R1    46.105010\n",
       "4    Km_10577.3  2023     R1     4.102443"
      ]
     },
     "execution_count": 6,
     "metadata": {},
     "output_type": "execute_result"
    }
   ],
   "source": [
    "# Formatting before bare soil calculation\n",
    "# This format & the calculation should be changed if it turns out that it is too heavy for processing\n",
    "gdf_ts_2022 = bare_soil_format(df_ts, gdf_2022, 2022)\n",
    "gdf_ts_2023 = bare_soil_format(df_ts, gdf_2023, 2023)\n",
    "\n",
    "\n",
    "# Bare soil calculation\n",
    "result = bare_soil_calc(gdf_ts_2022)\n",
    "result.to_csv('../outputs/output_analysis/bare_soil_analysis_2022_v3.csv')\n",
    "\n",
    "result = bare_soil_calc(gdf_ts_2023)\n",
    "result.to_csv('../outputs/output_analysis/bare_soil_analysis_2023_v3.csv')\n",
    "\n",
    "result.head(5)\n",
    "\n",
    "#gdf_ts[['OIDN', 'pointid', 'date', 'ndvi','geometry']].head(3)\n",
    "#gdf.loc[~gdf.OIDN.isin(gdf_ts.OIDN.unique().tolist())].to_file('../outputs/empty_geometries.gpkg')"
   ]
  },
  {
   "cell_type": "code",
   "execution_count": 32,
   "metadata": {},
   "outputs": [
    {
     "data": {
      "text/html": [
       "\n",
       "            <style>\n",
       "                .geemap-dark {\n",
       "                    --jp-widgets-color: white;\n",
       "                    --jp-widgets-label-color: white;\n",
       "                    --jp-ui-font-color1: white;\n",
       "                    --jp-layout-color2: #454545;\n",
       "                    background-color: #383838;\n",
       "                }\n",
       "\n",
       "                .geemap-dark .jupyter-button {\n",
       "                    --jp-layout-color3: #383838;\n",
       "                }\n",
       "\n",
       "                .geemap-colab {\n",
       "                    background-color: var(--colab-primary-surface-color, white);\n",
       "                }\n",
       "\n",
       "                .geemap-colab .jupyter-button {\n",
       "                    --jp-layout-color3: var(--colab-primary-surface-color, white);\n",
       "                }\n",
       "            </style>\n",
       "            "
      ],
      "text/plain": [
       "<IPython.core.display.HTML object>"
      ]
     },
     "metadata": {},
     "output_type": "display_data"
    },
    {
     "data": {
      "text/plain": [
       "pointid\n",
       "Km_10015        4\n",
       "Km_10019        4\n",
       "Km_10056.3      4\n",
       "Km_10565.2.3    4\n",
       "Km_10577.3      4\n",
       "Km_10810.1      4\n",
       "Name: count, dtype: int64"
      ]
     },
     "execution_count": 32,
     "metadata": {},
     "output_type": "execute_result"
    }
   ],
   "source": [
    "result.pointid.value_counts()"
   ]
  },
  {
   "cell_type": "code",
   "execution_count": 9,
   "metadata": {},
   "outputs": [
    {
     "data": {
      "text/html": [
       "\n",
       "            <style>\n",
       "                .geemap-dark {\n",
       "                    --jp-widgets-color: white;\n",
       "                    --jp-widgets-label-color: white;\n",
       "                    --jp-ui-font-color1: white;\n",
       "                    --jp-layout-color2: #454545;\n",
       "                    background-color: #383838;\n",
       "                }\n",
       "\n",
       "                .geemap-dark .jupyter-button {\n",
       "                    --jp-layout-color3: #383838;\n",
       "                }\n",
       "\n",
       "                .geemap-colab {\n",
       "                    background-color: var(--colab-primary-surface-color, white);\n",
       "                }\n",
       "\n",
       "                .geemap-colab .jupyter-button {\n",
       "                    --jp-layout-color3: var(--colab-primary-surface-color, white);\n",
       "                }\n",
       "            </style>\n",
       "            "
      ],
      "text/plain": [
       "<IPython.core.display.HTML object>"
      ]
     },
     "metadata": {},
     "output_type": "display_data"
    },
    {
     "data": {
      "image/png": "[encoded data removed]",
      "text/plain": [
       "<Figure size 1200x600 with 1 Axes>"
      ]
     },
     "metadata": {},
     "output_type": "display_data"
    }
   ],
   "source": [
    "# Create a pivot table to restructure the data for grouped bar plotting\n",
    "pivot_data = result.pivot(index='pointid', columns='period', values='% bare soil')\n",
    "\n",
    "# Plot a grouped bar chart\n",
    "pivot_data.plot(kind='bar', figsize=(12, 6))\n",
    "plt.title('Percentage across periods for each pointid')\n",
    "plt.xlabel('Code')\n",
    "plt.ylabel('Percentage')\n",
    "plt.legend(title='Period')\n",
    "plt.xticks(rotation=45)\n",
    "plt.show()"
   ]
  },
  {
   "cell_type": "markdown",
   "metadata": {},
   "source": []
  }
 ],
 "metadata": {
  "kernelspec": {
   "display_name": "ee",
   "language": "python",
   "name": "python3"
  },
  "language_info": {
   "codemirror_mode": {
    "name": "ipython",
    "version": 3
   },
   "file_extension": ".py",
   "mimetype": "text/x-python",
   "name": "python",
   "nbconvert_exporter": "python",
   "pygments_lexer": "ipython3",
   "version": "3.12.2"
  }
 },
 "nbformat": 4,
 "nbformat_minor": 2
}
