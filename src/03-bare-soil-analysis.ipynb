{
 "cells": [
  {
   "cell_type": "code",
   "execution_count": null,
   "metadata": {},
   "outputs": [],
   "source": [
    "%load_ext autoreload\n",
    "%autoreload 2"
   ]
  },
  {
   "cell_type": "code",
   "execution_count": null,
   "metadata": {},
   "outputs": [],
   "source": [
    "import os\n",
    "import geopandas as gpd\n",
    "import numpy as np\n",
    "import pandas as pd\n",
    "import xarray\n",
    "import matplotlib.pyplot as plt\n",
    "from shapely.geometry import box\n",
    "from scipy.signal import savgol_filter\n",
    "import rasterio\n",
    "from rasterio.features import rasterize\n",
    "from osgeo import gdal\n",
    "import rioxarray\n",
    "\n",
    "from func_processing import ts_telcirkel_per_jaar, bare_soil_calc, bare_soil_format\n"
   ]
  },
  {
   "cell_type": "markdown",
   "metadata": {},
   "source": [
    "## Settings\n"
   ]
  },
  {
   "cell_type": "code",
   "execution_count": null,
   "metadata": {},
   "outputs": [],
   "source": [
    "vi_str = 'bsi' # van welke vegetatie-index analyse doen?\n",
    "\n",
    "output_folder = 'Q:/Projects/PRJ_MBAG/4d_bwk/project-telcirkels/rasters-telcirkels-mas' #folder location of the rasters\n",
    "\n",
    "path_2022 = 'Q:/Projects/PRJ_MBAG/4d_bwk/project-telcirkels/landbouwgebruikspercelen_cut_bo_2022_clip.gpkg'\n",
    "path_2023 = 'Q:/Projects/PRJ_MBAG/4d_bwk/project-telcirkels/landbouwgebruikspercelen_cut_bo_2023_clip.gpkg'\n",
    "path_2024 = 'Q:/Projects/PRJ_MBAG/4d_bwk/project-telcirkels/landbouwgebruikspercelen_cut_bo_2024_clip.gpkg'\n"
   ]
  },
  {
   "cell_type": "code",
   "execution_count": null,
   "metadata": {},
   "outputs": [],
   "source": [
    "\n",
    "#---- \n",
    "# Reading in all the parcels from Z-/Q-schijf and combining into one \n",
    "gdf_2022 = gpd.read_file(path_2022).to_crs(32631)\n",
    "gdf_2023 = gpd.read_file(path_2023).to_crs(32631)\n",
    "gdf_2024 = gpd.read_file(path_2024).to_crs(32631)\n",
    "\n",
    "#----\n",
    "\n",
    "# Dictionary met de geodataframes per jaar (aanpassen als je meer of minder jaren wilt, moet natuurlijk binnen het tijdsbereik waarvoor er rasters gedownload zijn)\n",
    "analysis_years_dict = {2022: gdf_2022, 2023: gdf_2023, 2024: gdf_2024}\n",
    "\n",
    "# Dictionary met de telperiodes (hard-coded...)\n",
    "periods = {\n",
    "'R1_2022': ('2022-04-01', '2022-04-20'),\n",
    "'R2_2022': ('2022-04-21', '2022-05-10'),\n",
    "'R3_2022': ('2022-05-11', '2022-06-10'),\n",
    "'R4_2022': ('2022-06-21', '2022-07-15'),\n",
    "'R1_2023': ('2023-04-01', '2023-04-20'),\n",
    "'R2_2023': ('2023-04-21', '2023-05-10'),\n",
    "'R3_2023': ('2023-05-11', '2023-06-10'),\n",
    "'R4_2023': ('2023-06-21', '2023-07-15'),\n",
    "'R1_2024': ('2024-04-01', '2024-04-20'),\n",
    "'R2_2024': ('2024-04-21', '2024-05-10'),\n",
    "'R3_2024': ('2024-05-11', '2024-06-10'),\n",
    "'R4_2024': ('2024-06-21', '2024-07-15')}"
   ]
  },
  {
   "cell_type": "markdown",
   "metadata": {},
   "source": [
    "## Bare soil analysis\n",
    "Eerst de weggeschreven rasters terug inladen op de juiste manier (time index valt onder andere weg blijkbaar). Daarna op de ingeladen data de *bare soil analysis* doen. De analyse op de weggeschreven rasters doen gaat veel sneller dan het rechtstreeks uit te voeren wanneer de data van earth engine komt! De *bare soil analysis* moet per jaar apart gebeuren met de bijbehorende landbouwgebruikspercelen, terwijl de rasters gedownload zijn voor verschillenden jaren tegelijk. In deze analyse moet dus andere polygonen gebruikt worden afhankelijk van het jaar."
   ]
  },
  {
   "cell_type": "code",
   "execution_count": null,
   "metadata": {},
   "outputs": [],
   "source": [
    "gdf_2022.head(5)\n",
    "\n",
    "\n",
    "# CRS should be 4326\n",
    "gdf_2022.loc[(gdf_2022.pointid == 'Lm_11070')].plot(color='lightblue', edgecolor='black', linewidth=1)"
   ]
  },
  {
   "cell_type": "code",
   "execution_count": null,
   "metadata": {},
   "outputs": [],
   "source": [
    "#-- Aggregation of time series over polygons\n",
    "# Create empty dataframe for storage results (polygon-aggregated time series)\n",
    "df_ts = pd.DataFrame(columns=['REF_ID', 'pointid', 'time', vi_str])\n",
    "\n",
    "raster_files = [file for file in os.listdir(output_folder) if (vi_str in file) and (file.endswith('_sg.tif'))]\n",
    "\n",
    "for file in raster_files:\n",
    "    print(file)\n",
    "    \n",
    "    # Open the raster file\n",
    "    raster = rioxarray.open_rasterio(os.path.join(output_folder,file))\n",
    "\n",
    "    # Extract dates from the 'long_name' attribute, convert to datetime & assign to 'band' coordinate\n",
    "    dates = [raster.attrs['long_name'][i] for i in range(len(raster.band))]\n",
    "    time_index = pd.to_datetime(dates)\n",
    "    raster['band'] = time_index\n",
    "\n",
    "\n",
    "    # Xarray settings\n",
    "    raster = raster.rename({'band': 'time', 'x' : 'X', 'y': 'Y'}).transpose('time', 'X', 'Y')\n",
    "    raster = raster.rio.set_spatial_dims('X','Y')\n",
    "    raster.rio.write_crs(\"EPSG:32631\", inplace=True)\n",
    "\n",
    "    # Extract pointid\n",
    "    # pointid moet overeenkomen met de raster waarvoor de data opgehaald wordt, anders probleem met geen overlap tussen raster en polygon\n",
    "    parts = file.split('_')\n",
    "    pointid = parts[3] + '_' + parts[4]\n",
    "        \n",
    "    # In deze for-loop worden de tijdsreeksen voor het telpunt per jaar apart toegevoegd; afhankelijk van de geodataframes die in de dictionary zitten\n",
    "    for year, gdf_year in analysis_years_dict.items():\n",
    "        df_ts = ts_telcirkel_per_jaar(raster=raster, gdf=gdf_year, year=year, pointid=pointid, df_ts=df_ts)\n",
    "\n",
    "df_ts = df_ts.sort_values(by = ['pointid','REF_ID','time']).reset_index(drop=True)\n",
    "df_ts = df_ts[['pointid', 'REF_ID', 'time', vi_str]]\n",
    "df_ts.to_csv(f'../outputs/output_analysis/time_series_mas_{vi_str}.csv')\n",
    "\n",
    "df_ts"
   ]
  },
  {
   "cell_type": "code",
   "execution_count": 22,
   "metadata": {},
   "outputs": [
    {
     "data": {
      "text/html": [
       "\n",
       "            <style>\n",
       "                .geemap-dark {\n",
       "                    --jp-widgets-color: white;\n",
       "                    --jp-widgets-label-color: white;\n",
       "                    --jp-ui-font-color1: white;\n",
       "                    --jp-layout-color2: #454545;\n",
       "                    background-color: #383838;\n",
       "                }\n",
       "                    \n",
       "                .geemap-dark .jupyter-button {\n",
       "                    --jp-layout-color3: #383838;\n",
       "                }\n",
       "                \n",
       "                .geemap-colab {\n",
       "                    background-color: var(--colab-primary-surface-color, white);\n",
       "                }\n",
       "                    \n",
       "                .geemap-colab .jupyter-button {\n",
       "                    --jp-layout-color3: var(--colab-primary-surface-color, white);\n",
       "                }\n",
       "            </style>\n",
       "            "
      ],
      "text/plain": [
       "<IPython.core.display.HTML object>"
      ]
     },
     "metadata": {},
     "output_type": "display_data"
    },
    {
     "data": {
      "text/html": [
       "<div>\n",
       "<style scoped>\n",
       "    .dataframe tbody tr th:only-of-type {\n",
       "        vertical-align: middle;\n",
       "    }\n",
       "\n",
       "    .dataframe tbody tr th {\n",
       "        vertical-align: top;\n",
       "    }\n",
       "\n",
       "    .dataframe thead th {\n",
       "        text-align: right;\n",
       "    }\n",
       "</style>\n",
       "<table border=\"1\" class=\"dataframe\">\n",
       "  <thead>\n",
       "    <tr style=\"text-align: right;\">\n",
       "      <th></th>\n",
       "      <th>pointid</th>\n",
       "      <th>year</th>\n",
       "      <th>period</th>\n",
       "      <th>% bare soil</th>\n",
       "    </tr>\n",
       "  </thead>\n",
       "  <tbody>\n",
       "    <tr>\n",
       "      <th>0</th>\n",
       "      <td>DM_176.6</td>\n",
       "      <td>2024</td>\n",
       "      <td>R1</td>\n",
       "      <td>73.672736</td>\n",
       "    </tr>\n",
       "    <tr>\n",
       "      <th>1</th>\n",
       "      <td>Km_10019</td>\n",
       "      <td>2024</td>\n",
       "      <td>R1</td>\n",
       "      <td>4.693628</td>\n",
       "    </tr>\n",
       "    <tr>\n",
       "      <th>2</th>\n",
       "      <td>Km_10056.3</td>\n",
       "      <td>2024</td>\n",
       "      <td>R1</td>\n",
       "      <td>1.544639</td>\n",
       "    </tr>\n",
       "    <tr>\n",
       "      <th>3</th>\n",
       "      <td>Km_10183.4</td>\n",
       "      <td>2024</td>\n",
       "      <td>R1</td>\n",
       "      <td>13.982222</td>\n",
       "    </tr>\n",
       "    <tr>\n",
       "      <th>4</th>\n",
       "      <td>Km_10910</td>\n",
       "      <td>2024</td>\n",
       "      <td>R1</td>\n",
       "      <td>3.170508</td>\n",
       "    </tr>\n",
       "  </tbody>\n",
       "</table>\n",
       "</div>"
      ],
      "text/plain": [
       "      pointid  year period  % bare soil\n",
       "0    DM_176.6  2024     R1    73.672736\n",
       "1    Km_10019  2024     R1     4.693628\n",
       "2  Km_10056.3  2024     R1     1.544639\n",
       "3  Km_10183.4  2024     R1    13.982222\n",
       "4    Km_10910  2024     R1     3.170508"
      ]
     },
     "execution_count": 22,
     "metadata": {},
     "output_type": "execute_result"
    }
   ],
   "source": [
    "# Do bare soil calculation on every year seperately\n",
    "df_ts = pd.read_csv(f'../outputs/output_analysis/time_series_mas_{vi_str}.csv', index_col = 0)\n",
    "df_ts.time = pd.to_datetime(df_ts.time)\n",
    "\n",
    "for year, gdf_year in analysis_years_dict.items():\n",
    "    # Formatting before bare soil calculation\n",
    "    # This format & the calculation should be changed if it turns out that it is too heavy for processing\n",
    "    gdf_ts_year = bare_soil_format(df_ts, gdf_year, year, vi_str)\n",
    "    \n",
    "    # Bare soil calculation\n",
    "    result = bare_soil_calc(gdf_ts_year, vi_str, periods)\n",
    "\n",
    "    result.to_csv(f'../outputs/output_analysis/bare_soil_analysis_mas_{vi_str}_{year}_v1.csv')\n",
    "\n",
    "result.head(5)\n",
    "#gdf_ts[['OIDN', 'pointid', 'date', 'ndvi','geometry']].head(3)\n",
    "#gdf.loc[~gdf.OIDN.isin(gdf_ts.OIDN.unique().tolist())].to_file('../outputs/empty_geometries.gpkg')"
   ]
  },
  {
   "cell_type": "code",
   "execution_count": null,
   "metadata": {},
   "outputs": [],
   "source": []
  }
 ],
 "metadata": {
  "kernelspec": {
   "display_name": "ee",
   "language": "python",
   "name": "python3"
  },
  "language_info": {
   "codemirror_mode": {
    "name": "ipython",
    "version": 3
   },
   "file_extension": ".py",
   "mimetype": "text/x-python",
   "name": "python",
   "nbconvert_exporter": "python",
   "pygments_lexer": "ipython3",
   "version": "3.12.0"
  }
 },
 "nbformat": 4,
 "nbformat_minor": 2
}
