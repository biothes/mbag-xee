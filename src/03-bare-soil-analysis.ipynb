{
 "cells": [
  {
   "cell_type": "code",
   "execution_count": 7,
   "metadata": {},
   "outputs": [
    {
     "data": {
      "text/html": [
       "\n",
       "            <style>\n",
       "                .geemap-dark {\n",
       "                    --jp-widgets-color: white;\n",
       "                    --jp-widgets-label-color: white;\n",
       "                    --jp-ui-font-color1: white;\n",
       "                    --jp-layout-color2: #454545;\n",
       "                    background-color: #383838;\n",
       "                }\n",
       "\n",
       "                .geemap-dark .jupyter-button {\n",
       "                    --jp-layout-color3: #383838;\n",
       "                }\n",
       "\n",
       "                .geemap-colab {\n",
       "                    background-color: var(--colab-primary-surface-color, white);\n",
       "                }\n",
       "\n",
       "                .geemap-colab .jupyter-button {\n",
       "                    --jp-layout-color3: var(--colab-primary-surface-color, white);\n",
       "                }\n",
       "            </style>\n",
       "            "
      ],
      "text/plain": [
       "<IPython.core.display.HTML object>"
      ]
     },
     "metadata": {},
     "output_type": "display_data"
    }
   ],
   "source": [
    "import os\n",
    "import geopandas as gpd\n",
    "import numpy as np\n",
    "import pandas as pd\n",
    "import xarray\n",
    "import matplotlib.pyplot as plt\n",
    "from shapely.geometry import box\n",
    "from scipy.signal import savgol_filter\n",
    "import rasterio\n",
    "from rasterio.features import rasterize\n",
    "from osgeo import gdal\n",
    "import rioxarray\n",
    "\n",
    "from func_processing import ts_telcirkel_per_jaar, bare_soil_calc, bare_soil_format\n"
   ]
  },
  {
   "cell_type": "markdown",
   "metadata": {},
   "source": [
    "## Settings\n"
   ]
  },
  {
   "cell_type": "code",
   "execution_count": 8,
   "metadata": {},
   "outputs": [
    {
     "data": {
      "text/html": [
       "\n",
       "            <style>\n",
       "                .geemap-dark {\n",
       "                    --jp-widgets-color: white;\n",
       "                    --jp-widgets-label-color: white;\n",
       "                    --jp-ui-font-color1: white;\n",
       "                    --jp-layout-color2: #454545;\n",
       "                    background-color: #383838;\n",
       "                }\n",
       "\n",
       "                .geemap-dark .jupyter-button {\n",
       "                    --jp-layout-color3: #383838;\n",
       "                }\n",
       "\n",
       "                .geemap-colab {\n",
       "                    background-color: var(--colab-primary-surface-color, white);\n",
       "                }\n",
       "\n",
       "                .geemap-colab .jupyter-button {\n",
       "                    --jp-layout-color3: var(--colab-primary-surface-color, white);\n",
       "                }\n",
       "            </style>\n",
       "            "
      ],
      "text/plain": [
       "<IPython.core.display.HTML object>"
      ]
     },
     "metadata": {},
     "output_type": "display_data"
    }
   ],
   "source": [
    "\n",
    "vi_str = 'bsi' # van welke vegetatie-index analyse doen?\n",
    "\n",
    "output_folder = 'Q:/Projects/PRJ_MBAG/4d_bwk/project-telcirkels/rasters-telcirkels' #folder location of the rasters\n",
    "\n",
    "path_2022 = 'Q:/Projects/PRJ_MBAG/4d_bwk/project-telcirkels/landbouwgebruikspercelen_cut_bo_2022_clip.gpkg'\n",
    "path_2023 = 'Q:/Projects/PRJ_MBAG/4d_bwk/project-telcirkels/landbouwgebruikspercelen_cut_bo_2023_clip.gpkg'\n",
    "\n",
    "#---- \n",
    "# Reading in all the parcels from Z-/Q-schijf and combining into one \n",
    "gdf_2022 = gpd.read_file(path_2022).to_crs(32631)\n",
    "gdf_2023 = gpd.read_file(path_2023).to_crs(32631)\n",
    "#----\n",
    "\n",
    "# Dictionary met de geodataframes per jaar (aanpassen als je meer of minder jaren wilt, moet natuurlijk binnen het tijdsbereik waarvoor er rasters gedownload zijn)\n",
    "analysis_years_dict = {2022: gdf_2022, 2023: gdf_2023}"
   ]
  },
  {
   "cell_type": "markdown",
   "metadata": {},
   "source": [
    "## Bare soil analysis\n",
    "Eerst de weggeschreven rasters terug inladen op de juiste manier (time index valt onder andere weg blijkbaar). Daarna op de ingeladen data de *bare soil analysis* doen. De analyse op de weggeschreven rasters doen gaat veel sneller dan het rechtstreeks uit te voeren wanneer de data van earth engine komt! De *bare soil analysis* moet per jaar apart gebeuren met de bijbehorende landbouwgebruikspercelen, terwijl de rasters gedownload zijn voor verschillenden jaren tegelijk. In deze analyse moet dus andere polygonen gebruikt worden afhankelijk van het jaar."
   ]
  },
  {
   "cell_type": "code",
   "execution_count": 11,
   "metadata": {},
   "outputs": [
    {
     "data": {
      "text/html": [
       "\n",
       "            <style>\n",
       "                .geemap-dark {\n",
       "                    --jp-widgets-color: white;\n",
       "                    --jp-widgets-label-color: white;\n",
       "                    --jp-ui-font-color1: white;\n",
       "                    --jp-layout-color2: #454545;\n",
       "                    background-color: #383838;\n",
       "                }\n",
       "\n",
       "                .geemap-dark .jupyter-button {\n",
       "                    --jp-layout-color3: #383838;\n",
       "                }\n",
       "\n",
       "                .geemap-colab {\n",
       "                    background-color: var(--colab-primary-surface-color, white);\n",
       "                }\n",
       "\n",
       "                .geemap-colab .jupyter-button {\n",
       "                    --jp-layout-color3: var(--colab-primary-surface-color, white);\n",
       "                }\n",
       "            </style>\n",
       "            "
      ],
      "text/plain": [
       "<IPython.core.display.HTML object>"
      ]
     },
     "metadata": {},
     "output_type": "display_data"
    },
    {
     "data": {
      "text/plain": [
       "<Axes: >"
      ]
     },
     "execution_count": 11,
     "metadata": {},
     "output_type": "execute_result"
    },
    {
     "data": {
      "image/png": "[encoded data removed]",
      "text/plain": [
       "<Figure size 640x480 with 1 Axes>"
      ]
     },
     "metadata": {},
     "output_type": "display_data"
    }
   ],
   "source": [
    "gdf_2022.head(5)\n",
    "\n",
    "\n",
    "# CRS should be 4326\n",
    "gdf_2022.loc[(gdf_2022.pointid == 'Km_26663.17')].plot(color='lightblue', edgecolor='black', linewidth=1)"
   ]
  },
  {
   "cell_type": "code",
   "execution_count": 10,
   "metadata": {},
   "outputs": [
    {
     "data": {
      "text/html": [
       "\n",
       "            <style>\n",
       "                .geemap-dark {\n",
       "                    --jp-widgets-color: white;\n",
       "                    --jp-widgets-label-color: white;\n",
       "                    --jp-ui-font-color1: white;\n",
       "                    --jp-layout-color2: #454545;\n",
       "                    background-color: #383838;\n",
       "                }\n",
       "\n",
       "                .geemap-dark .jupyter-button {\n",
       "                    --jp-layout-color3: #383838;\n",
       "                }\n",
       "\n",
       "                .geemap-colab {\n",
       "                    background-color: var(--colab-primary-surface-color, white);\n",
       "                }\n",
       "\n",
       "                .geemap-colab .jupyter-button {\n",
       "                    --jp-layout-color3: var(--colab-primary-surface-color, white);\n",
       "                }\n",
       "            </style>\n",
       "            "
      ],
      "text/plain": [
       "<IPython.core.display.HTML object>"
      ]
     },
     "metadata": {},
     "output_type": "display_data"
    },
    {
     "name": "stdout",
     "output_type": "stream",
     "text": [
      "multiband_raster_bsi_Km_10015_sg.tif\n",
      "multiband_raster_bsi_Km_10019_sg.tif\n",
      "multiband_raster_ndvi_Km_10015_sg.tif\n",
      "multiband_raster_ndvi_Km_10019_sg.tif\n",
      "multiband_raster_ndvi_Km_10056.3_sg.tif\n",
      "multiband_raster_ndvi_Km_10565.2.3_sg.tif\n",
      "multiband_raster_ndvi_Km_10577.3_sg.tif\n",
      "multiband_raster_ndvi_Km_10810.1_sg.tif\n",
      "multiband_raster_ndvi_Lm_11070_sg.tif\n",
      "multiband_raster_ndvi_Lm_11568.1_sg.tif\n",
      "multiband_raster_ndvi_Lm_15064.9_sg.tif\n",
      "multiband_raster_ndvi_Lm_8486.3_sg.tif\n",
      "multiband_raster_ndvi_Lm_8898.1.8_sg.tif\n",
      "multiband_raster_ndvi_Lm_9709.1.6_sg.tif\n",
      "multiband_raster_ndvi_Zn_10111.7_sg.tif\n",
      "multiband_raster_ndvi_Zn_10583.5_sg.tif\n",
      "multiband_raster_ndvi_Zn_11411.7_sg.tif\n"
     ]
    },
    {
     "data": {
      "text/html": [
       "<div>\n",
       "<style scoped>\n",
       "    .dataframe tbody tr th:only-of-type {\n",
       "        vertical-align: middle;\n",
       "    }\n",
       "\n",
       "    .dataframe tbody tr th {\n",
       "        vertical-align: top;\n",
       "    }\n",
       "\n",
       "    .dataframe thead th {\n",
       "        text-align: right;\n",
       "    }\n",
       "</style>\n",
       "<table border=\"1\" class=\"dataframe\">\n",
       "  <thead>\n",
       "    <tr style=\"text-align: right;\">\n",
       "      <th></th>\n",
       "      <th>pointid</th>\n",
       "      <th>REF_ID</th>\n",
       "      <th>time</th>\n",
       "      <th>ndvi</th>\n",
       "    </tr>\n",
       "  </thead>\n",
       "  <tbody>\n",
       "    <tr>\n",
       "      <th>0</th>\n",
       "      <td>Km_10015</td>\n",
       "      <td>403232939</td>\n",
       "      <td>2022-02-01</td>\n",
       "      <td>-0.025186</td>\n",
       "    </tr>\n",
       "    <tr>\n",
       "      <th>1</th>\n",
       "      <td>Km_10015</td>\n",
       "      <td>403232939</td>\n",
       "      <td>2022-02-11</td>\n",
       "      <td>-0.035797</td>\n",
       "    </tr>\n",
       "    <tr>\n",
       "      <th>2</th>\n",
       "      <td>Km_10015</td>\n",
       "      <td>403232939</td>\n",
       "      <td>2022-02-21</td>\n",
       "      <td>-0.036088</td>\n",
       "    </tr>\n",
       "    <tr>\n",
       "      <th>3</th>\n",
       "      <td>Km_10015</td>\n",
       "      <td>403232939</td>\n",
       "      <td>2022-03-03</td>\n",
       "      <td>-0.026603</td>\n",
       "    </tr>\n",
       "    <tr>\n",
       "      <th>4</th>\n",
       "      <td>Km_10015</td>\n",
       "      <td>403232939</td>\n",
       "      <td>2022-03-13</td>\n",
       "      <td>-0.000334</td>\n",
       "    </tr>\n",
       "    <tr>\n",
       "      <th>...</th>\n",
       "      <td>...</td>\n",
       "      <td>...</td>\n",
       "      <td>...</td>\n",
       "      <td>...</td>\n",
       "    </tr>\n",
       "    <tr>\n",
       "      <th>3659</th>\n",
       "      <td>Km_10019</td>\n",
       "      <td>2316533182</td>\n",
       "      <td>2023-07-16</td>\n",
       "      <td>-0.087652</td>\n",
       "    </tr>\n",
       "    <tr>\n",
       "      <th>3660</th>\n",
       "      <td>Km_10019</td>\n",
       "      <td>2316533182</td>\n",
       "      <td>2023-07-26</td>\n",
       "      <td>-0.096212</td>\n",
       "    </tr>\n",
       "    <tr>\n",
       "      <th>3661</th>\n",
       "      <td>Km_10019</td>\n",
       "      <td>2316533182</td>\n",
       "      <td>2023-08-05</td>\n",
       "      <td>-0.107203</td>\n",
       "    </tr>\n",
       "    <tr>\n",
       "      <th>3662</th>\n",
       "      <td>Km_10019</td>\n",
       "      <td>2316533182</td>\n",
       "      <td>2023-08-15</td>\n",
       "      <td>-0.106042</td>\n",
       "    </tr>\n",
       "    <tr>\n",
       "      <th>3663</th>\n",
       "      <td>Km_10019</td>\n",
       "      <td>2316533182</td>\n",
       "      <td>2023-08-25</td>\n",
       "      <td>-0.096779</td>\n",
       "    </tr>\n",
       "  </tbody>\n",
       "</table>\n",
       "<p>3664 rows × 4 columns</p>\n",
       "</div>"
      ],
      "text/plain": [
       "       pointid      REF_ID       time      ndvi\n",
       "0     Km_10015   403232939 2022-02-01 -0.025186\n",
       "1     Km_10015   403232939 2022-02-11 -0.035797\n",
       "2     Km_10015   403232939 2022-02-21 -0.036088\n",
       "3     Km_10015   403232939 2022-03-03 -0.026603\n",
       "4     Km_10015   403232939 2022-03-13 -0.000334\n",
       "...        ...         ...        ...       ...\n",
       "3659  Km_10019  2316533182 2023-07-16 -0.087652\n",
       "3660  Km_10019  2316533182 2023-07-26 -0.096212\n",
       "3661  Km_10019  2316533182 2023-08-05 -0.107203\n",
       "3662  Km_10019  2316533182 2023-08-15 -0.106042\n",
       "3663  Km_10019  2316533182 2023-08-25 -0.096779\n",
       "\n",
       "[3664 rows x 4 columns]"
      ]
     },
     "execution_count": 10,
     "metadata": {},
     "output_type": "execute_result"
    }
   ],
   "source": [
    "#-- Aggregation of time series over polygons\n",
    "# Create empty dataframe for storage results (polygon-aggregated time series)\n",
    "df_ts = pd.DataFrame(columns=['REF_ID', 'pointid', 'time', 'ndvi'])\n",
    "\n",
    "raster_files = os.listdir(output_folder)\n",
    "\n",
    "for file in raster_files:\n",
    "    print(file)\n",
    "    \n",
    "    # Open the raster file\n",
    "    raster = rioxarray.open_rasterio(os.path.join(output_folder,file))\n",
    "\n",
    "    # Extract dates from the 'long_name' attribute, convert to datetime & assign to 'band' coordinate\n",
    "    dates = [raster.attrs['long_name'][i] for i in range(len(raster.band))]\n",
    "    time_index = pd.to_datetime(dates)\n",
    "    raster['band'] = time_index\n",
    "\n",
    "\n",
    "    # Xarray settings\n",
    "    raster = raster.rename({'band': 'time', 'x' : 'X', 'y': 'Y'}).transpose('time', 'X', 'Y')\n",
    "    raster = raster.rio.set_spatial_dims('X','Y')\n",
    "    raster.rio.write_crs(\"EPSG:32631\", inplace=True)\n",
    "\n",
    "    # Extract pointid\n",
    "    # pointid moet overeenkomen met de raster waarvoor de data opgehaald wordt, anders probleem met geen overlap tussen raster en polygon\n",
    "    parts = file.split('_')\n",
    "    pointid = parts[3] + '_' + parts[4]\n",
    "        \n",
    "    # In deze for-loop worden de tijdsreeksen voor het telpunt per jaar apart toegevoegd; afhankelijk van de geodataframes die in de dictionary zitten\n",
    "    for year, gdf_year in analysis_years_dict.items():\n",
    "        df_ts = ts_telcirkel_per_jaar(raster=raster, gdf=gdf_year, year=year, pointid=pointid, df_ts=df_ts)\n",
    "\n",
    "df_ts = df_ts.sort_values(by = ['pointid','REF_ID','time']).reset_index(drop=True)\n",
    "df_ts = df_ts[['pointid', 'REF_ID', 'time', 'ndvi']]\n",
    "df_ts.to_csv(f'../outputs/output_analysis/time_series_{vi_str}.csv')\n",
    "\n",
    "df_ts"
   ]
  },
  {
   "cell_type": "code",
   "execution_count": null,
   "metadata": {},
   "outputs": [],
   "source": [
    "# Do bare soil calculation on every year seperately\n",
    "\n",
    "for year, gdf_year in analysis_years_dict.items():\n",
    "    # Formatting before bare soil calculation\n",
    "    # This format & the calculation should be changed if it turns out that it is too heavy for processing\n",
    "    gdf_ts_year = bare_soil_format(df_ts, gdf_year, year)\n",
    "    \n",
    "    # Bare soil calculation\n",
    "    result = bare_soil_calc(gdf_ts_year)\n",
    "\n",
    "    result.to_csv(f'../outputs/output_analysis/bare_soil_analysis_{year}_v3.csv')\n",
    "\n",
    "result.head(5)\n",
    "#gdf_ts[['OIDN', 'pointid', 'date', 'ndvi','geometry']].head(3)\n",
    "#gdf.loc[~gdf.OIDN.isin(gdf_ts.OIDN.unique().tolist())].to_file('../outputs/empty_geometries.gpkg')"
   ]
  }
 ],
 "metadata": {
  "kernelspec": {
   "display_name": "xee",
   "language": "python",
   "name": "python3"
  },
  "language_info": {
   "codemirror_mode": {
    "name": "ipython",
    "version": 3
   },
   "file_extension": ".py",
   "mimetype": "text/x-python",
   "name": "python",
   "nbconvert_exporter": "python",
   "pygments_lexer": "ipython3",
   "version": "3.12.2"
  }
 },
 "nbformat": 4,
 "nbformat_minor": 2
}
